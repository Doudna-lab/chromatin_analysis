{
 "cells": [
  {
   "cell_type": "markdown",
   "metadata": {},
   "source": [
    "__Author__: Bogdan Bintu\n",
    "\n",
    "__Email__: bbintu@g.harvard.edu\n",
    "\n",
    "__Date__:3/4/2020"
   ]
  },
  {
   "cell_type": "code",
   "execution_count": null,
   "metadata": {},
   "outputs": [],
   "source": [
    "import matplotlib\n",
    "matplotlib.rcParams['pdf.fonttype'] = 42\n",
    "matplotlib.rcParams['font.size']=15\n",
    "matplotlib.rcParams['font.family']='Arial'\n",
    "import matplotlib.pyplot as plt\n",
    "import numpy as np\n",
    "import os"
   ]
  },
  {
   "cell_type": "code",
   "execution_count": null,
   "metadata": {},
   "outputs": [],
   "source": [
    "data_folder = r'\\data' #This is the folder containing the .tsv data files\n",
    "save_data = r'\\data'"
   ]
  },
  {
   "cell_type": "markdown",
   "metadata": {},
   "source": [
    "### 1. Load and organize transcription data"
   ]
  },
  {
   "cell_type": "code",
   "execution_count": null,
   "metadata": {},
   "outputs": [],
   "source": [
    "folder = data_folder\n",
    "fid = open(folder+os.sep+r'genomic-scale-with transcription and nuclear bodies.tsv','r')\n",
    "lines = np.array([ln[:-1].split('\\t')for ln in fid if len(ln)>0])\n",
    "zxy = np.array(lines[1:,:3][:],dtype=np.float)\n",
    "zxy = zxy.reshape([-1,2082,3])/1000 #transform to um\n",
    "head = list(lines[0])\n",
    "experiment = np.array(lines[1::2082,head.index('experiment number')].astype(int))-3"
   ]
  },
  {
   "cell_type": "code",
   "execution_count": null,
   "metadata": {},
   "outputs": [],
   "source": [
    "Transcr = []#np.array(['on' in e for e in lines[1:,8]])\n",
    "for e in lines[1:,8]:\n",
    "    if 'on' in e:\n",
    "        Transcr.append(1)\n",
    "    elif (e=='') or (e=='nan'):\n",
    "        Transcr.append(np.nan)\n",
    "    else:\n",
    "        Transcr.append(0)\n",
    "Transcr_WT = np.array(Transcr).reshape([-1,1041])"
   ]
  },
  {
   "cell_type": "markdown",
   "metadata": {},
   "source": [
    "#### Load A/B density"
   ]
  },
  {
   "cell_type": "code",
   "execution_count": null,
   "metadata": {},
   "outputs": [],
   "source": [
    "#Please see Part 2 how to calculate densities\n",
    "resWT = np.load(save_data+r'\\densityIMR90Untreated.npy')\n",
    "keep = slice(None)\n",
    "AD = resWT[keep,0,0,:]\n",
    "BD = resWT[keep,1,0,:]\n",
    "Dratio_WT = AD/BD\n",
    "Dratio_WT = Dratio_WT.reshape([-1,1041])[-len(Transcr_WT):]\n",
    "good_WT = (~np.isnan(zxy[:,:,0])).reshape([-1,1041])"
   ]
  },
  {
   "cell_type": "markdown",
   "metadata": {},
   "source": [
    "### 2. Calculate the transcriptional firing rate of A and B genes"
   ]
  },
  {
   "cell_type": "code",
   "execution_count": null,
   "metadata": {},
   "outputs": [],
   "source": [
    "AB = 'B,B,A,A,B,B,A,A,A,B,A,A,A,B,A,B,B,A,B,B,B,B,B,B,B,A,B,B,A,A,A,B,B,B,B,B,B,B,B,A,nan,A,A,A,B,A,B,A,B,A,B,A,B,A,A,A,B,B,B,A,A,A,B,B,A,B,B,A,B,B,B,B,B,B,B,A,B,B,A,A,B,B,B,A,A,B,A,B,A,A,B,B,B,A,B,B,A,B,A,B,A,B,B,B,B,B,nan,A,B,A,B,B,A,B,B,A,B,B,B,B,A,B,B,A,B,A,B,B,A,B,B,A,A,A,B,B,A,B,A,A,B,B,A,B,B,B,B,A,A,B,A,B,A,B,B,A,B,B,B,B,A,B,B,A,B,A,A,B,B,A,A,A,B,B,A,B,B,A,A,B,B,B,B,B,A,B,nan,B,A,A,B,A,B,A,B,A,A,A,A,B,B,A,B,B,B,A,B,B,B,B,B,A,A,B,A,B,A,A,B,B,A,A,A,B,B,B,A,B,B,A,A,B,B,B,A,A,B,B,nan,A,A,B,B,B,B,B,B,B,B,B,A,B,B,B,A,B,B,B,B,A,B,A,A,A,B,B,B,A,A,B,B,A,B,B,A,B,B,B,B,B,A,B,A,B,A,B,B,A,B,B,B,B,B,B,B,A,B,A,B,B,nan,B,A,A,B,B,A,B,A,B,A,A,A,B,B,A,A,B,B,B,B,B,B,B,B,A,B,B,B,A,A,B,A,B,A,B,B,B,B,B,B,B,B,A,A,A,B,B,A,A,A,A,B,B,A,A,A,B,A,B,B,B,A,A,B,B,B,B,A,B,B,B,B,A,B,B,B,B,B,A,A,B,B,B,B,B,A,A,A,B,A,A,A,A,B,B,B,B,B,B,B,A,B,B,B,B,B,B,B,A,A,A,B,A,A,A,B,B,B,nan,B,A,B,B,A,A,A,A,B,B,A,B,A,A,A,A,B,B,A,B,B,B,A,B,A,A,B,B,B,B,B,B,B,B,B,A,B,B,A,B,B,B,A,B,B,A,A,nan,A,B,A,B,B,B,B,A,A,B,B,A,B,B,B,B,B,A,B,A,B,B,B,B,A,A,B,B,B,B,B,A,nan,B,B,B,B,B,B,B,B,A,B,B,A,B,nan,nan,B,B,B,B,B,B,B,B,B,B,A,A,B,A,B,A,A,B,B,A,A,A,A,B,B,B,A,B,A,A,A,B,B,B,A,A,B,nan,A,nan,A,B,B,B,B,B,A,A,A,A,B,B,A,B,A,B,B,A,B,B,B,B,B,B,B,B,B,B,A,B,A,A,B,B,B,A,B,B,A,A,B,B,B,A,nan,B,B,B,A,A,A,A,A,B,B,B,B,A,A,B,B,A,B,A,B,A,B,A,B,B,B,B,A,A,B,B,B,B,B,B,A,B,B,nan,B,B,B,A,A,A,A,B,B,A,B,B,B,A,B,B,B,A,A,B,B,B,A,B,B,B,B,B,A,B,B,A,nan,A,A,B,B,B,B,B,A,A,B,B,B,B,B,B,B,B,B,B,B,B,B,B,B,B,B,B,B,B,B,B,nan,nan,B,B,B,B,B,B,B,B,B,B,A,A,B,B,B,B,A,B,A,B,B,B,B,B,B,B,B,A,A,nan,nan,B,B,B,B,A,B,A,A,B,A,B,B,B,B,B,A,A,A,B,A,A,B,B,B,A,B,B,B,B,A,B,B,B,B,A,B,B,B,B,A,B,B,nan,B,B,B,A,B,B,B,A,A,B,B,B,B,B,A,A,A,A,A,B,B,B,A,A,B,nan,B,A,B,B,A,A,A,A,A,A,B,B,B,A,A,A,A,B,B,A,A,A,A,B,B,B,A,A,B,nan,nan,A,A,B,B,B,B,A,B,A,B,A,B,B,B,A,A,B,B,B,A,A,B,A,A,A,A,A,A,B,B,A,B,A,B,A,A,B,B,nan,nan,B,B,B,B,B,B,A,A,A,A,A,A,A,B,B,B,B,B,B,A,B,B,B,B,B,B,B,B,B,B,B,nan,nan,nan,A,A,A,B,B,B,B,B,B,A,B,B,B,B,B,B,A,nan,B,B,nan,nan,B,B,B,B,B,B,B,B,B,B,B,B,B,B,B,B,B,A,B,B,B,B,B,B,A,A,nan,nan,nan,nan,B,A,A,A,A,A,B,A,A,A,A,A,B,B,A,A,A,A,A,A,A,A,A,A,B,B,A,A,A,A,A,A,A,A,A,A,A,A,A,A,A,A,A,A,A,A,nan,A,A,A,A,A,A,A,A,A,A,A,B,B,B,B,B,B,B,B,B,B,B,B,B,B,B,B,B,B,B,B'\n",
    "AB=np.array(AB.split(','))\n",
    "lens = [76, 80, 66, 63, 60, 55, 53, 48, 40, 43, 44, 44, 33, 30, 31, 30, 33, 33, 33, 33, 31, 31, 51]\n",
    "edges = np.cumsum([0]+lens)\n",
    "A,B = AB=='A',AB=='B'"
   ]
  },
  {
   "cell_type": "code",
   "execution_count": null,
   "metadata": {},
   "outputs": [],
   "source": [
    "from tqdm import tqdm_notebook as tqdm\n",
    "dic_tr_A = {}\n",
    "dic_tr_B = {}\n",
    "lines_ = lines[1:,7:9].reshape([-1,1041,2])\n",
    "lines_A = lines_[:,A].reshape([-1,2])\n",
    "lines_B = lines_[:,B].reshape([-1,2])\n",
    "for nms,trs in tqdm(lines_A):\n",
    "    if trs!= 'nan' and nms!='':\n",
    "        for gn,tr in zip(nms.split(','),trs.split(',')):\n",
    "            dic_tr_A[gn] = dic_tr_A.get(gn,[])+[tr]\n",
    "for nms,trs in tqdm(lines_B):\n",
    "    if trs!= 'nan' and nms!='':\n",
    "        for gn,tr in zip(nms.split(','),trs.split(',')):\n",
    "            dic_tr_B[gn] = dic_tr_B.get(gn,[])+[tr]"
   ]
  },
  {
   "cell_type": "code",
   "execution_count": null,
   "metadata": {},
   "outputs": [],
   "source": [
    "frsB = np.array([np.mean(np.array(dic_tr_B[key])=='on') for key in dic_tr_B])#/np.log(10)\n",
    "frsA = np.array([np.mean(np.array(dic_tr_A[key])=='on') for key in dic_tr_A])#/np.log(10)\n",
    "fig=plt.figure()\n",
    "\n",
    "plt.hist(frsA,bins=10**(np.linspace(-2.5,0,20)),color='r',alpha=0.75,label='A regions')\n",
    "plt.hist(frsB,bins=10**(np.linspace(-2.5,0,20)),color='b',alpha=0.75,label='B regions')\n",
    "plt.gca().set_xscale(\"log\")\n",
    "plt.legend()\n",
    "plt.xlabel('Bursting frequency')\n",
    "plt.ylabel('Number of genes')\n",
    "plt.show()"
   ]
  },
  {
   "cell_type": "markdown",
   "metadata": {},
   "source": [
    "### 3. Calculate A/B density ratio as a function of transcriptional state"
   ]
  },
  {
   "cell_type": "code",
   "execution_count": null,
   "metadata": {},
   "outputs": [],
   "source": [
    "Transcr =Transcr_WT==1\n",
    "DratioT = Dratio_WT.copy()\n",
    "DratioT[~(Transcr&good_WT)]=np.nan\n",
    "dT = np.nanmedian(DratioT,0)\n",
    "DratioS = Dratio_WT.copy()\n",
    "DratioS[~((~Transcr)&good_WT)]=np.nan\n",
    "dS = np.nanmedian(DratioS,0)\n",
    "logTS = np.log(dT/dS)/np.log(2)\n",
    "nanlogTS = logTS[~np.isnan(logTS)]\n",
    "nanlogTS_sort = np.sort(nanlogTS)\n",
    "fig = plt.figure()\n",
    "fr=1.*np.sum(nanlogTS_sort>0)/len(nanlogTS_sort)\n",
    "plt.title('Trascribing/Silent\\n'+str(np.round(fr,2))+' increase')\n",
    "plt.plot(nanlogTS_sort,'o',color='orange')\n",
    "plt.plot([0,len(nanlogTS_sort)],[0,0],lw=4,color='k')\n",
    "plt.ylabel('Log2 difference of \\ntrans A/B density ratio')\n",
    "plt.xlabel('Locus index')"
   ]
  },
  {
   "cell_type": "markdown",
   "metadata": {},
   "source": [
    "### 4. Calculate the transcriptional state as a function of A/B density"
   ]
  },
  {
   "cell_type": "code",
   "execution_count": null,
   "metadata": {},
   "outputs": [],
   "source": [
    "Transcr =Transcr_WT==1\n",
    "perc_75 = np.nanpercentile(Dratio_WT,75,axis=0)\n",
    "perc_25 = np.nanpercentile(Dratio_WT,25,axis=0)\n",
    "Tr_high = (Transcr&good_WT)\n",
    "keep = (Dratio_WT>perc_75)&good_WT\n",
    "Tr_high[~keep] = 0\n",
    "fr_high = 1.*np.sum(Tr_high,axis=0)/np.sum(keep,axis=0)\n",
    "\n",
    "Tr_low = (Transcr&good_WT)\n",
    "keep = (Dratio_WT<perc_25)&good_WT\n",
    "Tr_low[~keep] = 0\n",
    "fr_low = 1.*np.sum(Tr_low,axis=0)/np.sum(keep,axis=0)\n",
    "\n",
    "\n",
    "logTS = np.log(fr_high/fr_low)/np.log(2)\n",
    "nanlogTS = logTS[~np.isnan(logTS)]\n",
    "nanlogTS_sort = np.sort(nanlogTS)\n",
    "\n",
    "fr=1.*np.sum(nanlogTS_sort>0)/len(nanlogTS_sort)\n",
    "\n",
    "fig = plt.figure()\n",
    "plt.title('High/low trans A/B density ratio\\n'+str(np.round(fr,2))+' increase')\n",
    "plt.plot(nanlogTS_sort,'o',color='orange')\n",
    "plt.plot([0,len(nanlogTS_sort)],[0,0],lw=4,color='k')\n",
    "plt.ylabel('Log2 difference of firing rate')\n",
    "plt.xlabel('Locus index')"
   ]
  },
  {
   "cell_type": "code",
   "execution_count": null,
   "metadata": {},
   "outputs": [],
   "source": []
  }
 ],
 "metadata": {
  "kernelspec": {
   "display_name": "Python 2",
   "language": "python",
   "name": "python2"
  },
  "language_info": {
   "codemirror_mode": {
    "name": "ipython",
    "version": 2
   },
   "file_extension": ".py",
   "mimetype": "text/x-python",
   "name": "python",
   "nbconvert_exporter": "python",
   "pygments_lexer": "ipython2",
   "version": "2.7.16"
  }
 },
 "nbformat": 4,
 "nbformat_minor": 2
}
