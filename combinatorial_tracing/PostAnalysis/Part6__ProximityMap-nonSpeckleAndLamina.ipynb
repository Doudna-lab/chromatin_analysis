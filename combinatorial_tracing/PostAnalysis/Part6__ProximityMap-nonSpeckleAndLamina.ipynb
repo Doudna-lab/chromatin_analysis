{
 "cells": [
  {
   "cell_type": "markdown",
   "metadata": {},
   "source": [
    "__Author__: Bogdan Bintu\n",
    "\n",
    "__Email__: bbintu@g.harvard.edu\n",
    "\n",
    "__Date__:3/4/2020\n",
    "\n",
    "__Platform__: Python 2.7"
   ]
  },
  {
   "cell_type": "code",
   "execution_count": null,
   "metadata": {},
   "outputs": [],
   "source": [
    "import cPickle as pickle\n",
    "import matplotlib.pyplot as plt\n",
    "import numpy as np\n",
    "from scipy.spatial.distance import pdist,cdist,squareform\n",
    "from tqdm import tqdm_notebook as tqdm\n",
    "import matplotlib\n",
    "matplotlib.rcParams['pdf.fonttype'] = 42\n",
    "matplotlib.rcParams['font.size']=15\n",
    "matplotlib.rcParams['font.family']='Arial'\n",
    "import matplotlib.pyplot as plt\n",
    "import numpy as np\n",
    "import os"
   ]
  },
  {
   "cell_type": "markdown",
   "metadata": {},
   "source": [
    "#### Please specifiy the data/save folders"
   ]
  },
  {
   "cell_type": "code",
   "execution_count": null,
   "metadata": {},
   "outputs": [],
   "source": [
    "data_folder = r'\\data' #This is the folder containing the .tsv data files\n",
    "save_data = r'\\data'"
   ]
  },
  {
   "cell_type": "markdown",
   "metadata": {},
   "source": [
    "### 1. Calculate the normalized proximity frequency for A/B loci not associated with speckles"
   ]
  },
  {
   "cell_type": "markdown",
   "metadata": {},
   "source": [
    "#### Load the positions of the chromatin loci imaged"
   ]
  },
  {
   "cell_type": "code",
   "execution_count": null,
   "metadata": {},
   "outputs": [],
   "source": [
    "folder = data_folder\n",
    "experiment = []\n",
    "fid = open(folder+os.sep+r'genomic-scale-with transcription and nuclear bodies.tsv','r')\n",
    "lines = np.array([ln[:-1].split('\\t')for ln in fid if len(ln)>0])\n",
    "head = list(lines[0])\n",
    "experiment = np.concatenate([experiment,lines[1::2082,head.index('experiment number')].astype(int)])\n",
    "zxy = np.array(lines[1:,:3][:],dtype=np.float)\n",
    "zxy = zxy.reshape([-1,2082,3])/1000 #transform to um"
   ]
  },
  {
   "cell_type": "code",
   "execution_count": null,
   "metadata": {},
   "outputs": [],
   "source": [
    "tot_distsSC_WT_ = np.array(lines[1:,-1],dtype=np.float).reshape([-1,2082])/1000\n",
    "makenan_nSC = (tot_distsSC_WT_<0.25)|np.isnan(tot_distsSC_WT_)"
   ]
  },
  {
   "cell_type": "code",
   "execution_count": null,
   "metadata": {},
   "outputs": [],
   "source": [
    "lens = [76, 80, 66, 63, 60, 55, 53, 48, 40, 43, 44, 44, 33, 30, 31, 30, 33, 33, 33, 33, 31, 31, 51]\n",
    "edges = [0]+list(np.cumsum(lens))\n",
    "ijs = []\n",
    "fl_ = save_data+r'/mat_contact_IMR90_untreated_non-speckle.pkl'\n",
    "makenan = makenan_nSC\n",
    "for i in range(len(lens)):\n",
    "    for j in range(len(lens)):\n",
    "        ijs.append((i,j))\n",
    "        \n",
    "im_med = np.zeros([edges[-1],edges[-1]])\n",
    "cut_offs = [0.25,0.5,0.75,1]\n",
    "im_fr = np.zeros([edges[-1],edges[-1],len(cut_offs)])\n",
    "im_med_trans = []\n",
    "im_med_cis = []\n",
    "im_fr_trans = [[] for _ in cut_offs]\n",
    "im_fr_cis = [[] for _ in cut_offs]\n",
    "\n",
    "zxy_ = zxy.copy()\n",
    "zxy_[makenan]=np.nan #make nan the elements associated with the speckle\n",
    "\n",
    "for i,j in tqdm(ijs):\n",
    "    arr = []\n",
    "    for st1 in [0,edges[-1]]:\n",
    "        for st2 in [0,edges[-1]]:\n",
    "            zxy1 = zxy_[:,st1+edges[i]:st1+edges[i+1]]\n",
    "            zxy2 = zxy_[:,st2+edges[j]:st2+edges[j+1]]\n",
    "            arr =arr+[cdist(zxy1[k],zxy2[k]) for k in range(len(zxy1))]\n",
    "    arr = np.array(arr)\n",
    "    im_med[edges[i]:edges[i+1],edges[j]:edges[j+1]]=np.nanmedian(arr,axis=0)\n",
    "    if i==j:\n",
    "        im_med_cis.append(np.nanmedian(arr[::2],axis=0))\n",
    "        im_med_trans.append(np.nanmedian(arr[1::2],axis=0))\n",
    "    for ic,cutoff in enumerate(cut_offs):\n",
    "        im_fr[edges[i]:edges[i+1],edges[j]:edges[j+1],ic] = 1.*np.sum(arr<cutoff,0)/np.sum(arr>-1,0)\n",
    "        if i==j:\n",
    "            im_fr_trans[ic].append(1.*np.sum(arr[1::2]<cutoff,0)/np.sum(arr[1::2]>-1,0))\n",
    "            im_fr_cis[ic].append(1.*np.sum(arr[::2]<cutoff,0)/np.sum(arr[::2]>-1,0))\n",
    "\n",
    "pickle.dump([im_med,im_fr,im_med_trans,im_med_cis,im_fr_trans,im_fr_cis,len(zxy_)],\n",
    "        open(fl_,'wb'))\n",
    "        "
   ]
  },
  {
   "cell_type": "code",
   "execution_count": null,
   "metadata": {},
   "outputs": [],
   "source": [
    "im_med,im_fr,im_med_trans,im_med_cis,im_fr_trans,im_fr_cis,nlen=  pickle.load(\n",
    "    open(save_data+r'/mat_contact_IMR90_untreated_non-speckle.pkl','rb'))"
   ]
  },
  {
   "cell_type": "code",
   "execution_count": null,
   "metadata": {},
   "outputs": [],
   "source": [
    "#Number of regions/chromosome\n",
    "lens = [76, 80, 66, 63, 60, 55, 53, 48, 40, 43, 44, 44, 33, 30, 31, 30, 33, 33, 33, 33, 31, 31, 51]\n",
    "edges = np.cumsum([0]+lens)\n",
    "#AB identity\n",
    "AB = 'B,B,A,A,B,B,A,A,A,B,A,A,A,B,A,B,B,A,B,B,B,B,B,B,B,A,B,B,A,A,A,B,B,B,B,B,B,B,B,A,nan,A,A,A,B,A,B,A,B,A,B,A,B,A,A,A,B,B,B,A,A,A,B,B,A,B,B,A,B,B,B,B,B,B,B,A,B,B,A,A,B,B,B,A,A,B,A,B,A,A,B,B,B,A,B,B,A,B,A,B,A,B,B,B,B,B,nan,A,B,A,B,B,A,B,B,A,B,B,B,B,A,B,B,A,B,A,B,B,A,B,B,A,A,A,B,B,A,B,A,A,B,B,A,B,B,B,B,A,A,B,A,B,A,B,B,A,B,B,B,B,A,B,B,A,B,A,A,B,B,A,A,A,B,B,A,B,B,A,A,B,B,B,B,B,A,B,nan,B,A,A,B,A,B,A,B,A,A,A,A,B,B,A,B,B,B,A,B,B,B,B,B,A,A,B,A,B,A,A,B,B,A,A,A,B,B,B,A,B,B,A,A,B,B,B,A,A,B,B,nan,A,A,B,B,B,B,B,B,B,B,B,A,B,B,B,A,B,B,B,B,A,B,A,A,A,B,B,B,A,A,B,B,A,B,B,A,B,B,B,B,B,A,B,A,B,A,B,B,A,B,B,B,B,B,B,B,A,B,A,B,B,nan,B,A,A,B,B,A,B,A,B,A,A,A,B,B,A,A,B,B,B,B,B,B,B,B,A,B,B,B,A,A,B,A,B,A,B,B,B,B,B,B,B,B,A,A,A,B,B,A,A,A,A,B,B,A,A,A,B,A,B,B,B,A,A,B,B,B,B,A,B,B,B,B,A,B,B,B,B,B,A,A,B,B,B,B,B,A,A,A,B,A,A,A,A,B,B,B,B,B,B,B,A,B,B,B,B,B,B,B,A,A,A,B,A,A,A,B,B,B,nan,B,A,B,B,A,A,A,A,B,B,A,B,A,A,A,A,B,B,A,B,B,B,A,B,A,A,B,B,B,B,B,B,B,B,B,A,B,B,A,B,B,B,A,B,B,A,A,nan,A,B,A,B,B,B,B,A,A,B,B,A,B,B,B,B,B,A,B,A,B,B,B,B,A,A,B,B,B,B,B,A,nan,B,B,B,B,B,B,B,B,A,B,B,A,B,nan,nan,B,B,B,B,B,B,B,B,B,B,A,A,B,A,B,A,A,B,B,A,A,A,A,B,B,B,A,B,A,A,A,B,B,B,A,A,B,nan,A,nan,A,B,B,B,B,B,A,A,A,A,B,B,A,B,A,B,B,A,B,B,B,B,B,B,B,B,B,B,A,B,A,A,B,B,B,A,B,B,A,A,B,B,B,A,nan,B,B,B,A,A,A,A,A,B,B,B,B,A,A,B,B,A,B,A,B,A,B,A,B,B,B,B,A,A,B,B,B,B,B,B,A,B,B,nan,B,B,B,A,A,A,A,B,B,A,B,B,B,A,B,B,B,A,A,B,B,B,A,B,B,B,B,B,A,B,B,A,nan,A,A,B,B,B,B,B,A,A,B,B,B,B,B,B,B,B,B,B,B,B,B,B,B,B,B,B,B,B,B,B,nan,nan,B,B,B,B,B,B,B,B,B,B,A,A,B,B,B,B,A,B,A,B,B,B,B,B,B,B,B,A,A,nan,nan,B,B,B,B,A,B,A,A,B,A,B,B,B,B,B,A,A,A,B,A,A,B,B,B,A,B,B,B,B,A,B,B,B,B,A,B,B,B,B,A,B,B,nan,B,B,B,A,B,B,B,A,A,B,B,B,B,B,A,A,A,A,A,B,B,B,A,A,B,nan,B,A,B,B,A,A,A,A,A,A,B,B,B,A,A,A,A,B,B,A,A,A,A,B,B,B,A,A,B,nan,nan,A,A,B,B,B,B,A,B,A,B,A,B,B,B,A,A,B,B,B,A,A,B,A,A,A,A,A,A,B,B,A,B,A,B,A,A,B,B,nan,nan,B,B,B,B,B,B,A,A,A,A,A,A,A,B,B,B,B,B,B,A,B,B,B,B,B,B,B,B,B,B,B,nan,nan,nan,A,A,A,B,B,B,B,B,B,A,B,B,B,B,B,B,A,nan,B,B,nan,nan,B,B,B,B,B,B,B,B,B,B,B,B,B,B,B,B,B,A,B,B,B,B,B,B,A,A,nan,nan,nan,nan,B,A,A,A,A,A,B,A,A,A,A,A,B,B,A,A,A,A,A,A,A,A,A,A,B,B,A,A,A,A,A,A,A,A,A,A,A,A,A,A,A,A,A,A,A,A,nan,A,A,A,A,A,A,A,A,A,A,A,B,B,B,B,B,B,B,B,B,B,B,B,B,B,B,B,B,B,B,B'\n",
    "AB=np.array(AB.split(','))\n",
    "A,B = AB=='A',AB=='B'\n",
    "\n",
    "#contact probability derived from imaging\n",
    "logim = np.log(im_fr[:,:,1])\n",
    "logim_o = logim.copy()\n",
    "for ic in range(len(edges)-1):\n",
    "    logim_o[edges[ic]:edges[ic+1],edges[ic]:edges[ic+1]]=np.nan\n",
    "logim_o[np.isinf(logim_o)]=np.nan\n",
    "\n",
    "\n",
    "for il in range(len(edges)-1):\n",
    "    for jl in range(len(edges)-1):\n",
    "        logim_o[edges[il]:edges[il+1],edges[jl]:edges[jl+1]]-=np.nanmedian(logim_o[edges[il]:edges[il+1],edges[jl]:edges[jl+1]])\n",
    "\n",
    "logim_ord = np.concatenate([np.concatenate([logim_o[A,:][:,A],logim_o[B,:][:,A]]),\n",
    "                np.concatenate([logim_o[A,:][:,B],logim_o[B,:][:,B]])],axis=-1)    \n",
    "\n",
    "fig = plt.figure(figsize=(15,10))\n",
    "edgeA = np.sum(A)\n",
    "plt.plot([edgeA,edgeA],[0,len(logim_ord)],'k')\n",
    "plt.plot([0,len(logim_ord)],[edgeA,edgeA],'k')\n",
    "plt.imshow(logim_ord,cmap='seismic',vmax=np.log(2.5),vmin=np.log(0.5))#,vmin=-8.25,vmax=-3.5)\n",
    "plt.colorbar()"
   ]
  },
  {
   "cell_type": "code",
   "execution_count": null,
   "metadata": {},
   "outputs": [],
   "source": [
    "AA = logim_ord[:edgeA,:edgeA].ravel()\n",
    "AA = AA[~np.isnan(AA)]\n",
    "fig = plt.figure()\n",
    "h1 = plt.hist(AA,bins=np.linspace(-1.05,1.05,36),normed=True,alpha=0.7,color='r',label='AA');\n",
    "\n",
    "AB = logim_ord[edgeA:,:edgeA].ravel()\n",
    "AB = AB[~np.isnan(AB)]\n",
    "plt.hist(AB,bins=np.linspace(-1.05,1.05,36),normed=True,alpha=0.75,color='gray',label='AB');\n",
    "\n",
    "BB = logim_ord[edgeA:,edgeA:].ravel()\n",
    "BB = BB[~np.isnan(BB)]\n",
    "h2 = plt.hist(BB,bins=np.linspace(-1.05,1.05,36),normed=True,alpha=0.75,color='b',label='BB');\n",
    "\n",
    "\n",
    "\n",
    "plt.xlim([-1,1])\n",
    "\n",
    "np.max(h2[0])\n",
    "1./np.sum(h2[0])\n",
    "yvals = [0,0.025,0.05,0.075]\n",
    "plt.yticks(np.array(yvals)*np.sum(h2[0]),np.array(yvals)*100)\n",
    "\n",
    "xvals = np.round(np.exp(np.linspace(-1,1,4)),1)\n",
    "xvals = [0.35,0.7,1.4,2.8]\n",
    "plt.xticks(np.log(xvals),xvals)\n",
    "plt.xlabel(\"Normalized proximity frequency\")\n",
    "plt.ylabel(\"% of locus pairs\")\n",
    "plt.legend()"
   ]
  },
  {
   "cell_type": "code",
   "execution_count": null,
   "metadata": {},
   "outputs": [],
   "source": [
    "fig, axes = plt.subplots(nrows=1, ncols=1, figsize=(4,12))\n",
    "labels = ['AA','AB','BB']\n",
    "data = [np.exp(AA),np.exp(AB),np.exp(BB)]\n",
    "data = [AA,AB,BB]\n",
    "bplot = axes.boxplot(data,showfliers=False,patch_artist=True,labels=labels,notch=True,whis =[5,95])\n",
    "colors = ['red','grey','blue']\n",
    "for patch, color in zip(bplot['boxes'],colors):\n",
    "    patch.set_facecolor(color)\n",
    "ticks_ = [0.35,0.7,1.4,2.8]\n",
    "plt.yticks(np.log(ticks_),map(str,ticks_))\n",
    "plt.ylabel('Normalized proximity frequency')\n",
    "plt.title('Medians AA,AB,BB: '+str(list(np.round([np.exp(np.median(AA)),np.exp(np.median(AB)),np.exp(np.median(BB))],2))))\n",
    "plt.show()"
   ]
  },
  {
   "cell_type": "markdown",
   "metadata": {},
   "source": [
    "### 2. Calculate the normalized proximity frequency for A/B loci associated with the lamina"
   ]
  },
  {
   "cell_type": "code",
   "execution_count": null,
   "metadata": {},
   "outputs": [],
   "source": [
    "folder = data_folder\n",
    "\n",
    "experiment = []\n",
    "fid = open(folder+os.sep+r'genomic-scale.tsv','r')\n",
    "lines = np.array([ln[:-1].split('\\t')for ln in fid if len(ln)>0])\n",
    "head = list(lines[0])\n",
    "experiment = np.concatenate([experiment,lines[1::2082,head.index('experiment number')].astype(int)])\n",
    "zxy = np.array(lines[1:,:3][:],dtype=np.float)\n",
    "dLAM = np.array(lines[1:,-1].astype(float))\n",
    "\n",
    "fid = open(folder+os.sep+r'genomic-scale-with transcription and nuclear bodies.tsv','r')\n",
    "lines = np.array([ln[:-1].split('\\t')for ln in fid if len(ln)>0])\n",
    "head = list(lines[0])\n",
    "experiment = np.concatenate([experiment,lines[1::2082,head.index('experiment number')].astype(int)])\n",
    "dLAM = np.concatenate([dLAM,np.array(lines[1:,-3].astype(float))])\n",
    "zxy = np.concatenate([zxy,np.array(lines[1:,:3][:],dtype=np.float)])\n",
    "zxy = zxy.reshape([-1,2082,3])/1000 #transform to um\n",
    "dLAM = dLAM.reshape([-1,2082])/1000"
   ]
  },
  {
   "cell_type": "code",
   "execution_count": null,
   "metadata": {},
   "outputs": [],
   "source": [
    "makenan_lam = (tot_distsLAM_WT_>0.25)|np.isnan(tot_distsLAM_WT_)"
   ]
  },
  {
   "cell_type": "code",
   "execution_count": null,
   "metadata": {},
   "outputs": [],
   "source": [
    "lens = [76, 80, 66, 63, 60, 55, 53, 48, 40, 43, 44, 44, 33, 30, 31, 30, 33, 33, 33, 33, 31, 31, 51]\n",
    "edges = [0]+list(np.cumsum(lens))\n",
    "ijs = []\n",
    "fl_ = save_data+r'/mat_contact_IMR90_untreated_lamina.pkl'\n",
    "makenan = makenan_lam\n",
    "for i in range(len(lens)):\n",
    "    for j in range(len(lens)):\n",
    "        ijs.append((i,j))\n",
    "        \n",
    "im_med = np.zeros([edges[-1],edges[-1]])\n",
    "cut_offs = [0.25,0.5,0.75,1]\n",
    "im_fr = np.zeros([edges[-1],edges[-1],len(cut_offs)])\n",
    "im_med_trans = []\n",
    "im_med_cis = []\n",
    "im_fr_trans = [[] for _ in cut_offs]\n",
    "im_fr_cis = [[] for _ in cut_offs]\n",
    "\n",
    "zxy_ = zxy.copy()\n",
    "zxy_[makenan]=np.nan #make nan the elements associated with the speckle\n",
    "\n",
    "for i,j in tqdm(ijs):\n",
    "    arr = []\n",
    "    for st1 in [0,edges[-1]]:\n",
    "        for st2 in [0,edges[-1]]:\n",
    "            zxy1 = zxy_[:,st1+edges[i]:st1+edges[i+1]]\n",
    "            zxy2 = zxy_[:,st2+edges[j]:st2+edges[j+1]]\n",
    "            arr =arr+[cdist(zxy1[k],zxy2[k]) for k in range(len(zxy1))]\n",
    "    arr = np.array(arr)\n",
    "    im_med[edges[i]:edges[i+1],edges[j]:edges[j+1]]=np.nanmedian(arr,axis=0)\n",
    "    if i==j:\n",
    "        im_med_cis.append(np.nanmedian(arr[::2],axis=0))\n",
    "        im_med_trans.append(np.nanmedian(arr[1::2],axis=0))\n",
    "    for ic,cutoff in enumerate(cut_offs):\n",
    "        im_fr[edges[i]:edges[i+1],edges[j]:edges[j+1],ic] = 1.*np.sum(arr<cutoff,0)/np.sum(arr>-1,0)\n",
    "        if i==j:\n",
    "            im_fr_trans[ic].append(1.*np.sum(arr[1::2]<cutoff,0)/np.sum(arr[1::2]>-1,0))\n",
    "            im_fr_cis[ic].append(1.*np.sum(arr[::2]<cutoff,0)/np.sum(arr[::2]>-1,0))\n",
    "\n",
    "pickle.dump([im_med,im_fr,im_med_trans,im_med_cis,im_fr_trans,im_fr_cis,len(zxy_)],\n",
    "        open(fl_,'wb'))\n",
    "        "
   ]
  },
  {
   "cell_type": "code",
   "execution_count": null,
   "metadata": {},
   "outputs": [],
   "source": [
    "im_med,im_fr,im_med_trans,im_med_cis,im_fr_trans,im_fr_cis,nlen=  pickle.load(\n",
    "    open(save_data+r'/mat_contact_IMR90_untreated_lamina.pkl','rb'))"
   ]
  },
  {
   "cell_type": "code",
   "execution_count": null,
   "metadata": {},
   "outputs": [],
   "source": [
    "#Number of regions/chromosome\n",
    "lens = [76, 80, 66, 63, 60, 55, 53, 48, 40, 43, 44, 44, 33, 30, 31, 30, 33, 33, 33, 33, 31, 31, 51]\n",
    "edges = np.cumsum([0]+lens)\n",
    "#AB identity\n",
    "AB = 'B,B,A,A,B,B,A,A,A,B,A,A,A,B,A,B,B,A,B,B,B,B,B,B,B,A,B,B,A,A,A,B,B,B,B,B,B,B,B,A,nan,A,A,A,B,A,B,A,B,A,B,A,B,A,A,A,B,B,B,A,A,A,B,B,A,B,B,A,B,B,B,B,B,B,B,A,B,B,A,A,B,B,B,A,A,B,A,B,A,A,B,B,B,A,B,B,A,B,A,B,A,B,B,B,B,B,nan,A,B,A,B,B,A,B,B,A,B,B,B,B,A,B,B,A,B,A,B,B,A,B,B,A,A,A,B,B,A,B,A,A,B,B,A,B,B,B,B,A,A,B,A,B,A,B,B,A,B,B,B,B,A,B,B,A,B,A,A,B,B,A,A,A,B,B,A,B,B,A,A,B,B,B,B,B,A,B,nan,B,A,A,B,A,B,A,B,A,A,A,A,B,B,A,B,B,B,A,B,B,B,B,B,A,A,B,A,B,A,A,B,B,A,A,A,B,B,B,A,B,B,A,A,B,B,B,A,A,B,B,nan,A,A,B,B,B,B,B,B,B,B,B,A,B,B,B,A,B,B,B,B,A,B,A,A,A,B,B,B,A,A,B,B,A,B,B,A,B,B,B,B,B,A,B,A,B,A,B,B,A,B,B,B,B,B,B,B,A,B,A,B,B,nan,B,A,A,B,B,A,B,A,B,A,A,A,B,B,A,A,B,B,B,B,B,B,B,B,A,B,B,B,A,A,B,A,B,A,B,B,B,B,B,B,B,B,A,A,A,B,B,A,A,A,A,B,B,A,A,A,B,A,B,B,B,A,A,B,B,B,B,A,B,B,B,B,A,B,B,B,B,B,A,A,B,B,B,B,B,A,A,A,B,A,A,A,A,B,B,B,B,B,B,B,A,B,B,B,B,B,B,B,A,A,A,B,A,A,A,B,B,B,nan,B,A,B,B,A,A,A,A,B,B,A,B,A,A,A,A,B,B,A,B,B,B,A,B,A,A,B,B,B,B,B,B,B,B,B,A,B,B,A,B,B,B,A,B,B,A,A,nan,A,B,A,B,B,B,B,A,A,B,B,A,B,B,B,B,B,A,B,A,B,B,B,B,A,A,B,B,B,B,B,A,nan,B,B,B,B,B,B,B,B,A,B,B,A,B,nan,nan,B,B,B,B,B,B,B,B,B,B,A,A,B,A,B,A,A,B,B,A,A,A,A,B,B,B,A,B,A,A,A,B,B,B,A,A,B,nan,A,nan,A,B,B,B,B,B,A,A,A,A,B,B,A,B,A,B,B,A,B,B,B,B,B,B,B,B,B,B,A,B,A,A,B,B,B,A,B,B,A,A,B,B,B,A,nan,B,B,B,A,A,A,A,A,B,B,B,B,A,A,B,B,A,B,A,B,A,B,A,B,B,B,B,A,A,B,B,B,B,B,B,A,B,B,nan,B,B,B,A,A,A,A,B,B,A,B,B,B,A,B,B,B,A,A,B,B,B,A,B,B,B,B,B,A,B,B,A,nan,A,A,B,B,B,B,B,A,A,B,B,B,B,B,B,B,B,B,B,B,B,B,B,B,B,B,B,B,B,B,B,nan,nan,B,B,B,B,B,B,B,B,B,B,A,A,B,B,B,B,A,B,A,B,B,B,B,B,B,B,B,A,A,nan,nan,B,B,B,B,A,B,A,A,B,A,B,B,B,B,B,A,A,A,B,A,A,B,B,B,A,B,B,B,B,A,B,B,B,B,A,B,B,B,B,A,B,B,nan,B,B,B,A,B,B,B,A,A,B,B,B,B,B,A,A,A,A,A,B,B,B,A,A,B,nan,B,A,B,B,A,A,A,A,A,A,B,B,B,A,A,A,A,B,B,A,A,A,A,B,B,B,A,A,B,nan,nan,A,A,B,B,B,B,A,B,A,B,A,B,B,B,A,A,B,B,B,A,A,B,A,A,A,A,A,A,B,B,A,B,A,B,A,A,B,B,nan,nan,B,B,B,B,B,B,A,A,A,A,A,A,A,B,B,B,B,B,B,A,B,B,B,B,B,B,B,B,B,B,B,nan,nan,nan,A,A,A,B,B,B,B,B,B,A,B,B,B,B,B,B,A,nan,B,B,nan,nan,B,B,B,B,B,B,B,B,B,B,B,B,B,B,B,B,B,A,B,B,B,B,B,B,A,A,nan,nan,nan,nan,B,A,A,A,A,A,B,A,A,A,A,A,B,B,A,A,A,A,A,A,A,A,A,A,B,B,A,A,A,A,A,A,A,A,A,A,A,A,A,A,A,A,A,A,A,A,nan,A,A,A,A,A,A,A,A,A,A,A,B,B,B,B,B,B,B,B,B,B,B,B,B,B,B,B,B,B,B,B'\n",
    "AB=np.array(AB.split(','))\n",
    "A,B = AB=='A',AB=='B'\n",
    "\n",
    "#contact probability derived from imaging\n",
    "logim = np.log(im_fr[:,:,1])\n",
    "logim_o = logim.copy()\n",
    "for ic in range(len(edges)-1):\n",
    "    logim_o[edges[ic]:edges[ic+1],edges[ic]:edges[ic+1]]=np.nan\n",
    "logim_o[np.isinf(logim_o)]=np.nan\n",
    "\n",
    "\n",
    "for il in range(len(edges)-1):\n",
    "    for jl in range(len(edges)-1):\n",
    "        logim_o[edges[il]:edges[il+1],edges[jl]:edges[jl+1]]-=np.nanmedian(logim_o[edges[il]:edges[il+1],edges[jl]:edges[jl+1]])\n",
    "\n",
    "logim_ord = np.concatenate([np.concatenate([logim_o[A,:][:,A],logim_o[B,:][:,A]]),\n",
    "                np.concatenate([logim_o[A,:][:,B],logim_o[B,:][:,B]])],axis=-1)    \n",
    "\n",
    "fig = plt.figure(figsize=(15,10))\n",
    "edgeA = np.sum(A)\n",
    "plt.plot([edgeA,edgeA],[0,len(logim_ord)],'k')\n",
    "plt.plot([0,len(logim_ord)],[edgeA,edgeA],'k')\n",
    "plt.imshow(logim_ord,cmap='seismic',vmax=np.log(2.5),vmin=np.log(0.5))#,vmin=-8.25,vmax=-3.5)\n",
    "plt.colorbar()"
   ]
  },
  {
   "cell_type": "code",
   "execution_count": null,
   "metadata": {},
   "outputs": [],
   "source": [
    "AA = logim_ord[:edgeA,:edgeA].ravel()\n",
    "AA = AA[~np.isnan(AA)]\n",
    "fig = plt.figure()\n",
    "h1 = plt.hist(AA,bins=np.linspace(-1.05,1.05,36),normed=True,alpha=0.7,color='r',label='AA');\n",
    "\n",
    "AB = logim_ord[edgeA:,:edgeA].ravel()\n",
    "AB = AB[~np.isnan(AB)]\n",
    "plt.hist(AB,bins=np.linspace(-1.05,1.05,36),normed=True,alpha=0.75,color='gray',label='AB');\n",
    "\n",
    "BB = logim_ord[edgeA:,edgeA:].ravel()\n",
    "BB = BB[~np.isnan(BB)]\n",
    "h2 = plt.hist(BB,bins=np.linspace(-1.05,1.05,36),normed=True,alpha=0.75,color='b',label='BB');\n",
    "\n",
    "\n",
    "\n",
    "plt.xlim([-1,1])\n",
    "\n",
    "np.max(h2[0])\n",
    "1./np.sum(h2[0])\n",
    "yvals = [0,0.025,0.05,0.075]\n",
    "plt.yticks(np.array(yvals)*np.sum(h2[0]),np.array(yvals)*100)\n",
    "\n",
    "xvals = np.round(np.exp(np.linspace(-1,1,4)),1)\n",
    "xvals = [0.35,0.7,1.4,2.8]\n",
    "plt.xticks(np.log(xvals),xvals)\n",
    "plt.xlabel(\"Normalized proximity frequency\")\n",
    "plt.ylabel(\"% of locus pairs\")\n",
    "plt.legend()"
   ]
  },
  {
   "cell_type": "code",
   "execution_count": null,
   "metadata": {},
   "outputs": [],
   "source": [
    "fig, axes = plt.subplots(nrows=1, ncols=1, figsize=(4,12))\n",
    "labels = ['AA','AB','BB']\n",
    "data = [np.exp(AA),np.exp(AB),np.exp(BB)]\n",
    "data = [AA,AB,BB]\n",
    "bplot = axes.boxplot(data,showfliers=False,patch_artist=True,labels=labels,notch=True,whis =[5,95])\n",
    "colors = ['red','grey','blue']\n",
    "for patch, color in zip(bplot['boxes'],colors):\n",
    "    patch.set_facecolor(color)\n",
    "ticks_ = [0.35,0.7,1.4,2.8]\n",
    "plt.yticks(np.log(ticks_),map(str,ticks_))\n",
    "plt.ylabel('Normalized proximity frequency')\n",
    "plt.title('Medians AA,AB,BB: '+str(list(np.round([np.exp(np.median(AA)),np.exp(np.median(AB)),np.exp(np.median(BB))],2))))\n",
    "plt.show()"
   ]
  }
 ],
 "metadata": {
  "kernelspec": {
   "display_name": "Python 2",
   "language": "python",
   "name": "python2"
  },
  "language_info": {
   "codemirror_mode": {
    "name": "ipython",
    "version": 2
   },
   "file_extension": ".py",
   "mimetype": "text/x-python",
   "name": "python",
   "nbconvert_exporter": "python",
   "pygments_lexer": "ipython2",
   "version": "2.7.16"
  }
 },
 "nbformat": 4,
 "nbformat_minor": 2
}
