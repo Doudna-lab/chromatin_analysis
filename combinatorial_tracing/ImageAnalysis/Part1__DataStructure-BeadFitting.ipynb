{
 "cells": [
  {
   "cell_type": "markdown",
   "metadata": {},
   "source": [
    "__Author:__ Bogdan Bintu\n",
    "\n",
    "__Email:__ bbintu@g.harvard.edu\n",
    "\n",
    "__Date:__ 3/4/2020\n",
    "\n"
   ]
  },
  {
   "cell_type": "markdown",
   "metadata": {},
   "source": [
    "#### Note: This assumes Python 2"
   ]
  },
  {
   "cell_type": "code",
   "execution_count": 1,
   "metadata": {},
   "outputs": [],
   "source": [
    "# Imports\n",
    "import numpy as np\n",
    "import glob,os,sys\n",
    "import matplotlib.pylab as plt\n",
    "\n",
    "import workers #worker package to parallelize\n",
    "\n",
    "#Warning: Installing ipyparallel is recomended"
   ]
  },
  {
   "cell_type": "markdown",
   "metadata": {},
   "source": [
    "### 1. Raw imaging data structure description\n",
    "\n",
    "This code assumes the data is stored in a __master_folder__\n",
    "with subfolders organized by rounds of hybridization i.e.:\n",
    "\n",
    "__H1R1,R2__ - correpsonds to the 2nd round of imaging the fluorsecent signal in which readout 3 is imaged in the first color channel, readout 4 is imaged in the second color channel  and fiducial beads are imaged in the third color chanel. For each z-pozition the three color chanels are imaged, the z-piezo is moved one step (100-250nm) and then the imaging of the three color channels is repeated etc. This folder contains multiple .dax imaging files (and associated info files) organized per field of view (i.e. Conv_zscan_00.dax correponds to the 1st field of view, Conv_zscan_01.dax correponds to the 2nd field of view etc.).\n",
    "\n",
    "__H2R3,R4__ - correpsonds to the 2nd round of imaging the fluorsecent signal in which readout 3 is imaged in the first color channel, readout 4 is imaged in the second color channel  and fiducial beads are imaged in the third color chanel. The z-step imaging and file format within each folder follows the same description above fora each folder unless specified.\n",
    "\n",
    "...\n",
    "\n",
    "__H0B,B__ - corresponds to the first round of imaging, before flowing readout sequences (typically across all color 5 available channels in an alternating fashion)\n",
    "(B - indicates that there is no fluorescent signal in that channel)\n",
    "\n",
    "...\n",
    "\n",
    "__H1Q1,Q2,Q3__ - correpsonds to the 1nd round of imaging the fluorsecent signal of RNA (Q-denotes RNA readouts) in which RNA readout 1 is imaged in the first color channel, RNA readout 2 is imaged in the second color channel, RNA readout 3 is imaged in the third color channel  and fiducial beads are imaged in the fourth color chanel.\n"
   ]
  },
  {
   "cell_type": "markdown",
   "metadata": {},
   "source": [
    "### 2. Organize the data and flatten the illumination profile"
   ]
  },
  {
   "cell_type": "code",
   "execution_count": 6,
   "metadata": {},
   "outputs": [],
   "source": [
    "######### Get the info for the current project\n",
    "master_folder=r'master_DNA_folder' \n",
    "\n",
    "hfolders = [folder for folder in glob.glob(master_folder+os.sep+'*')\n",
    "           if os.path.isdir(folder) and glob.glob(folder+os.sep+'*.dax')>0 and os.path.basename(folder)[0]!='F']\n",
    "hinds = [workers.getH(hfolder) for hfolder in hfolders]\n",
    "hfolders = np.array(hfolders)[np.argsort(hinds)]\n",
    "fovs = map(os.path.basename,glob.glob(hfolders[0]+os.sep+'*.dax'))\n",
    "analysis_folder = master_folder+'-Analysis'\n",
    "if not os.path.exists(analysis_folder): os.makedirs(analysis_folder)"
   ]
  },
  {
   "cell_type": "code",
   "execution_count": 9,
   "metadata": {},
   "outputs": [
    {
     "name": "stdout",
     "output_type": "stream",
     "text": [
      "\\\\dolly\\Raw_data\\Bogdan\\8_26_2019__IMR90_6hAmanitin_STORM65\\H112B,R3,R5\n"
     ]
    }
   ],
   "source": [
    "######### compute the median value across all fields of view - this helps flatten the illumination\n",
    "num_cols,remove_first = 4,0\n",
    "hfolder = hfolders[10]\n",
    "print hfolder\n",
    "meds_fl = analysis_folder+os.sep+'im_meds.npy'\n",
    "if not os.path.exists(meds_fl):\n",
    "    im_meds = [np.mean([workers.get_frame(hfolder+os.sep+fov,ind_z=ind_col+remove_first) for fov in fovs],axis=0) \n",
    "               for ind_col in range(num_cols)]\n",
    "    np.save(meds_fl,np.array(im_meds,dtype=np.float32))"
   ]
  },
  {
   "cell_type": "code",
   "execution_count": null,
   "metadata": {},
   "outputs": [],
   "source": [
    "#### check illumination profile\n",
    "im_med = np.load(meds_fl)\n",
    "plt.figure(figsize=(5,5))\n",
    "im = im_med[3]\n",
    "plt.imshow(im,vmax=np.percentile(im,95)*1.2)\n",
    "plt.colorbar()"
   ]
  },
  {
   "cell_type": "markdown",
   "metadata": {},
   "source": [
    "### 3. Run the rough alignment and fiducial drift fitting across all fileds of view and all imaging rounds"
   ]
  },
  {
   "cell_type": "code",
   "execution_count": null,
   "metadata": {},
   "outputs": [],
   "source": [
    "\n",
    "def ref_fl(dax_fl,ref_tags = ['H20B,B','H20B,B']):\n",
    "    htag = os.path.basename(os.path.dirname(dax_fl))\n",
    "    fov = os.path.basename(dax_fl)\n",
    "    ref_tag = ref_tags[-1] if 'Q' in htag else ref_tags[0]\n",
    "    ref_hfolder = [hfolder for hfolder in hfolders if ref_tag in os.path.basename(hfolder)][0]\n",
    "    dax_fl_ref = ref_hfolder+os.sep+fov\n",
    "    return dax_fl_ref\n",
    "paramaters = []\n",
    "overwrite_fits,overwrite_drift=False,False\n",
    "for fovind in range(len(fovs)):\n",
    "    for hind in range(len(hfolders)):\n",
    "        htag = os.path.basename(hfolders[hind])\n",
    "        dax_fl = hfolders[hind]+os.sep+fovs[fovind]\n",
    "        ref_dax_fl = ref_fl(dax_fl)\n",
    "        paramaters.append((dax_fl,ref_dax_fl,overwrite_fits,overwrite_drift))\n",
    "print len(paramaters)"
   ]
  },
  {
   "cell_type": "markdown",
   "metadata": {},
   "source": [
    "#### Run across all data in paralell"
   ]
  },
  {
   "cell_type": "code",
   "execution_count": 24,
   "metadata": {},
   "outputs": [],
   "source": [
    "#Run the workers in parallel to perform rough registration and fit the beads in the data.\n",
    "# while workers can also perform rough (yet fast) fitting of the signal data, \n",
    "#this is mostly used for testing as the gaussian fitting is more precise\n",
    "#Add path to the system to be able to import \n",
    "\n",
    "#Open terminal and run: ipcluster start -n 20\n",
    "import ipyparallel as ipp\n",
    "from ipyparallel import Client\n",
    "rc = Client()\n",
    "import workers\n",
    "reload(workers)\n",
    "def f(parm):\n",
    "    import sys\n",
    "    sys.path.append(r'E:\\Bogdan\\Dropbox\\code_Seurat\\WholeGenome_MERFISH\\Analysis_code')\n",
    "    import workers\n",
    "    reload(workers)\n",
    "    \n",
    "    success = workers.run_fitting_analysis(parm,remove_first=0,im_pad=0,fit_colors=False)\n",
    "    return success"
   ]
  },
  {
   "cell_type": "code",
   "execution_count": null,
   "metadata": {},
   "outputs": [],
   "source": [
    "res = rc[:].map_sync(f,paramaters[:])"
   ]
  },
  {
   "cell_type": "markdown",
   "metadata": {},
   "source": [
    "#### Example of single run output "
   ]
  },
  {
   "cell_type": "code",
   "execution_count": null,
   "metadata": {},
   "outputs": [],
   "source": [
    "f(paramaters[3000])"
   ]
  },
  {
   "cell_type": "code",
   "execution_count": null,
   "metadata": {},
   "outputs": [],
   "source": []
  }
 ],
 "metadata": {
  "kernelspec": {
   "display_name": "Python 2",
   "language": "python",
   "name": "python2"
  },
  "language_info": {
   "codemirror_mode": {
    "name": "ipython",
    "version": 2
   },
   "file_extension": ".py",
   "mimetype": "text/x-python",
   "name": "python",
   "nbconvert_exporter": "python",
   "pygments_lexer": "ipython2",
   "version": "2.7.16"
  }
 },
 "nbformat": 4,
 "nbformat_minor": 2
}
