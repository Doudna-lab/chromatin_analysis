{
 "cells": [
  {
   "cell_type": "markdown",
   "metadata": {
    "collapsed": true
   },
   "source": [
    "### Bogdan Bintu\n",
    "### Copyright Presidents and Fellows of Harvard College, 2017."
   ]
  },
  {
   "cell_type": "markdown",
   "metadata": {},
   "source": [
    "### Cy5-Cy7 chromatic aberation correction\n",
    "Having fitted and and constructed a list of candidate positions for the chromosomal positions in each FOV,\n",
    "the positions are matched based on nearest neighbour (chromatic abrations are small) and then fitted with a 2nd order polynomial.\n",
    "\n",
    "(see ChromatinImaging/Difraction-limited_ImageAnalysis/StandardAnalysis.ipynb for details)\n",
    "\n",
    "Sample multicolor data is not provided with this notebook. \n"
   ]
  },
  {
   "cell_type": "code",
   "execution_count": null,
   "metadata": {
    "collapsed": true
   },
   "outputs": [],
   "source": [
    "#Imports\n",
    "import sys,glob,os\n",
    "import numpy as np\n",
    "import cPickle as pickle"
   ]
  },
  {
   "cell_type": "code",
   "execution_count": 210,
   "metadata": {
    "collapsed": true
   },
   "outputs": [],
   "source": [
    "master_folder = r''\n",
    "analysis_folder = master_folder+os.sep+r'Analysis'"
   ]
  },
  {
   "cell_type": "markdown",
   "metadata": {},
   "source": [
    "### Find matching positions"
   ]
  },
  {
   "cell_type": "code",
   "execution_count": 214,
   "metadata": {
    "collapsed": false
   },
   "outputs": [],
   "source": [
    "files = glob.glob(analysis_folder+os.sep+'*_cand.pkl')\n",
    "cy7ptsf,cy5ptsf=[],[]\n",
    "for fl in files[::-1]:\n",
    "    dic = pickle.load(open(fl,'rb'))\n",
    "    chroms = dic.keys()\n",
    "    chrom = chroms[0]\n",
    "    cy5k,cy7k = 'H3R5','H43P5'\n",
    "    cy5pts,cy7pts = [],[]\n",
    "    for chrom in chroms:\n",
    "        dic_ = dic[chrom][0]\n",
    "        if dic_.has_key(cy5k):\n",
    "            cy5pts.extend(dic_[cy5k][:,1:4])\n",
    "        if dic_.has_key(cy7k):\n",
    "            cy7pts.extend(dic_[cy7k][:,1:4])\n",
    "    cy7pts = np.array(cy7pts)\n",
    "    cy5pts = np.array(cy5pts)\n",
    "\n",
    "    cutoff=2\n",
    "    M = cdist(cy5pts,cy7pts)\n",
    "    longdim = np.argmax(M.shape)\n",
    "    inds_sh = np.argmin(M,longdim)\n",
    "    dists_sh = np.min(M,longdim)\n",
    "    keep = dists_sh<cutoff\n",
    "    ind1,ind2 = inds_sh[keep],np.arange(len(inds_sh))[keep]\n",
    "    if longdim==1:\n",
    "        ind1,ind2 = ind2,ind1\n",
    "    cy5ptsf.extend(cy5pts[ind1])\n",
    "    cy7ptsf.extend(cy7pts[ind2])\n",
    "cy5ptsf = np.array(cy5ptsf)\n",
    "cy7ptsf = np.array(cy7ptsf)"
   ]
  },
  {
   "cell_type": "markdown",
   "metadata": {
    "collapsed": false
   },
   "source": [
    "### Polynomial fitting"
   ]
  },
  {
   "cell_type": "code",
   "execution_count": 216,
   "metadata": {
    "collapsed": false
   },
   "outputs": [
    {
     "name": "stdout",
     "output_type": "stream",
     "text": [
      "[[0.025711432432609635, 0.00025512759143988401, 5.5686637638975243e-06, -0.00042340795417944021, -2.0436776461688556e-07, -1.5928705456769738e-08, 0.27953709196490806], [-0.00353052918100763, -0.00034442564277036681, -1.7870917577209923e-05, 6.3843139463714616e-05, 1.7033892711492658e-08, 2.3814093085910767e-08, -0.016009480066035722], [-0.016349292644475905, 6.5813576351769304e-05, -0.00048380735880232585, 0.00037854567020854658, -5.6600463991897216e-08, 1.4513584741887027e-07, 0.19207772922465599]]\n"
     ]
    }
   ],
   "source": [
    "def calc_color_matrix(x,y):\n",
    "    \"\"\"This gives a quadratic color transformation (in matrix form)\n",
    "    x is Nx3 vector of positions in the reference channel (typically cy5)\n",
    "    y is the Nx3 vector of positions in another channel (i.e. cy7)\n",
    "    return m_ a 3x7 matrix which when multipled with x,x**2,1 returns y-x\n",
    "    This m_ is indended to be used with apply_colorcor\n",
    "    \"\"\" \n",
    "    x_ = np.array(x)\n",
    "    y_ = np.array(y)-x_\n",
    "    A = np.concatenate([x_[:],x_[:]**2,np.ones([len(x_),1])],axis=-1)\n",
    "    m_ = [np.linalg.lstsq(A, y_[:,iy])[0] for iy in range(len(x_[0]))]\n",
    "    m_=np.array(m_)\n",
    "    return m_\n",
    "def apply_colorcor(x,m_):\n",
    "    \"\"\"This applies chromatic abberation correction to order 2\n",
    "    x is a Nx3 vector of positions\n",
    "    m_ is a matrix computed by function calc_color_matrix\n",
    "    y is the corrected vector in another channel\"\"\"\n",
    "    x_ = np.array(x)\n",
    "    A = np.concatenate([x_[:],x_[:]**2,np.ones([len(x_),1])],axis=-1)\n",
    "    diff = [np.dot(A,m) for m in m_]\n",
    "    return x_+np.array(diff).T\n",
    "m_ = calc_color_matrix(cy5ptsf,cy7ptsf)\n",
    "new_cy5ptsf = apply_colorcor(cy5ptsf,calc_color_matrix(cy5ptsf,cy7ptsf))\n",
    "print map(list,m_)"
   ]
  }
 ],
 "metadata": {
  "kernelspec": {
   "display_name": "Python [Root]",
   "language": "python",
   "name": "Python [Root]"
  },
  "language_info": {
   "codemirror_mode": {
    "name": "ipython",
    "version": 2
   },
   "file_extension": ".py",
   "mimetype": "text/x-python",
   "name": "python",
   "nbconvert_exporter": "python",
   "pygments_lexer": "ipython2",
   "version": "2.7.12"
  }
 },
 "nbformat": 4,
 "nbformat_minor": 0
}
